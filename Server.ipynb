{
 "cells": [
  {
   "cell_type": "code",
   "execution_count": 4,
   "metadata": {},
   "outputs": [
    {
     "name": "stdout",
     "output_type": "stream",
     "text": [
      "Connected by ('192.168.0.27', 53219)\n"
     ]
    }
   ],
   "source": [
    "import socket, pickle\n",
    "\n",
    "import os\n",
    "\n",
    "def msort(x):\n",
    "    \n",
    "    if len(x) < 2:\n",
    "        return x\n",
    "    \n",
    "    result = []     \n",
    "    mid = int(len(x) / 2)\n",
    "    y = msort(x[:mid])\n",
    "    z = msort(x[mid:])\n",
    "    \n",
    "    while (len(y) > 0) and (len(z) > 0):\n",
    "        if y[0] > z[0]:\n",
    "            result.append(z[0])\n",
    "            z.pop(0)\n",
    "        else:\n",
    "            result.append(y[0])\n",
    "            y.pop(0)\n",
    "            \n",
    "    result += y\n",
    "    result += z\n",
    "    return result\n",
    "\n",
    "def main():\n",
    "    \n",
    "    server = socket.socket(socket.AF_INET, socket.SOCK_STREAM)\n",
    "\n",
    "    PORT = 12389\n",
    "\n",
    "    ip = socket.gethostbyname(socket.gethostname())\n",
    "\n",
    "    address = (ip , PORT) \n",
    "\n",
    "    server.bind(address)\n",
    "    \n",
    "    server.listen(3)\n",
    "    \n",
    "    conn, addr = server.accept()\n",
    "    \n",
    "    print 'Connected by', addr \n",
    "    \n",
    "    while True:\n",
    "        \n",
    "        data = conn.recv(4096)\n",
    "        \n",
    "        if not data: break\n",
    "            \n",
    "        sorted_data = []\n",
    "            \n",
    "        for item in pickle.loads(data):\n",
    "            \n",
    "            temp_sorted = msort(item.split())\n",
    "            \n",
    "            temp_str = \" \".join(temp_sorted)\n",
    "            \n",
    "            sorted_data.append(temp_str)\n",
    "               \n",
    "        conn.send(pickle.dumps(sorted_data))\n",
    "        \n",
    "if __name__ == \"__main__\":\n",
    "    \n",
    "    main()"
   ]
  },
  {
   "cell_type": "code",
   "execution_count": null,
   "metadata": {},
   "outputs": [],
   "source": []
  }
 ],
 "metadata": {
  "kernelspec": {
   "display_name": "Python 2",
   "language": "python",
   "name": "python2"
  },
  "language_info": {
   "codemirror_mode": {
    "name": "ipython",
    "version": 2
   },
   "file_extension": ".py",
   "mimetype": "text/x-python",
   "name": "python",
   "nbconvert_exporter": "python",
   "pygments_lexer": "ipython2",
   "version": "2.7.15"
  }
 },
 "nbformat": 4,
 "nbformat_minor": 2
}
