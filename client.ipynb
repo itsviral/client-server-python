{
 "cells": [
  {
   "cell_type": "code",
   "execution_count": 1,
   "metadata": {},
   "outputs": [],
   "source": [
    "import socket, pickle\n",
    "\n",
    "with open('client1.inputdat.txt', 'r') as f:\n",
    "    fline = f.readlines()\n",
    "    \n",
    "    data = []\n",
    "    \n",
    "    for lines in fline:\n",
    "        \n",
    "        data.append(lines)\n",
    "        \n",
    "server = socket.socket(socket.AF_INET, socket.SOCK_STREAM)\n",
    "\n",
    "PORT = 12389\n",
    "\n",
    "ip = socket.gethostbyname(socket.gethostname())\n",
    "\n",
    "address = (ip , PORT) \n",
    "\n",
    "server.connect(address)\n",
    "\n",
    "data_string = pickle.dumps(data)\n",
    "\n",
    "server.send(data_string)\n",
    "\n",
    "data = server.recv(4096)\n",
    "\n",
    "sorted_arr = pickle.loads(data)\n",
    "\n",
    "\n",
    "for item in sorted_arr:\n",
    "    \n",
    "    print(item)\n"
   ]
  },
  {
   "cell_type": "code",
   "execution_count": null,
   "metadata": {},
   "outputs": [],
   "source": []
  },
  {
   "cell_type": "code",
   "execution_count": null,
   "metadata": {},
   "outputs": [],
   "source": []
  },
  {
   "cell_type": "code",
   "execution_count": null,
   "metadata": {},
   "outputs": [],
   "source": []
  }
 ],
 "metadata": {
  "kernelspec": {
   "display_name": "Python 2",
   "language": "python",
   "name": "python2"
  },
  "language_info": {
   "codemirror_mode": {
    "name": "ipython",
    "version": 2
   },
   "file_extension": ".py",
   "mimetype": "text/x-python",
   "name": "python",
   "nbconvert_exporter": "python",
   "pygments_lexer": "ipython2",
   "version": "2.7.15"
  }
 },
 "nbformat": 4,
 "nbformat_minor": 2
}
